{
 "cells": [
  {
   "cell_type": "markdown",
   "metadata": {},
   "source": [
    "# Quaker families  dynamic relationships #"
   ]
  },
  {
   "cell_type": "markdown",
   "metadata": {},
   "source": [
    "## This project explores the 592 Quakers found amongst the entire community of 3095 ##\n",
    "\n",
    "19% of the community are Quakers."
   ]
  },
  {
   "cell_type": "markdown",
   "metadata": {},
   "source": [
    "<img src=\"quakers_dyn.png\">"
   ]
  },
  {
   "cell_type": "code",
   "execution_count": 13,
   "metadata": {},
   "outputs": [],
   "source": [
    "import csv\n",
    "import pandas as pd\n",
    "import matplotlib.pyplot as plt\n",
    "import numpy as np\n",
    "from operator import itemgetter\n",
    "import networkx as nx\n",
    "from networkx.algorithms import community \n",
    "#This part of networkx, for community detection, needs to be imported separately.\n",
    "import nbconvert\n",
    "import seaborn as sns\n",
    "plt.rc('figure', figsize=(20, 10))\n",
    "# <img src=\" xxx.png\">"
   ]
  },
  {
   "cell_type": "code",
   "execution_count": 14,
   "metadata": {},
   "outputs": [],
   "source": [
    "with open('vw_4_ceda_membership_quakers2_py.csv', 'r') as nodecsv: # Open the Nodes csv file\n",
    "    nodereader = csv.reader(nodecsv) # Read the csv\n",
    "    nodes = [n for n in nodereader][1:]# Retrieve the data (using Python list comprhension and list slicing\n",
    "                                       # to remove the header row\n",
    "    node_names = [n[0] for n in nodes] # Get a list of only the node names\n",
    "\n",
    "with open('vw_5_person1_person2.csv', 'r') as edgecsv: # Open the file\n",
    "    edgereader = csv.reader(edgecsv) # Read the csv\n",
    "    edge_list = list(edgereader) # Convert to list, so can iterate below in for loop\n",
    "    \n",
    "    # Create empty arrays to store edge data and edge attribute data\n",
    "    edges = []\n",
    "    edges_attributes = []\n",
    "    \n",
    "    # Fill the arrays with data from CSV\n",
    "    for e in edge_list[1:]:\n",
    "        edges.append(tuple(e[0:2])) # Get the first 2 columns (source, target) and add to array\n",
    "        edges_attributes.append(tuple(e[2:3])) # Get the 3rd column (relationship_type_id) and add to array\n",
    "    \n",
    "edge_names = [e[0] for e in edges] # Get a list of only the edge names   "
   ]
  },
  {
   "cell_type": "code",
   "execution_count": 15,
   "metadata": {},
   "outputs": [
    {
     "name": "stdout",
     "output_type": "stream",
     "text": [
      "Nodes length:  688\n",
      "Edges length:  2006\n",
      "Edges attributes length:  2006\n"
     ]
    }
   ],
   "source": [
    "print(\"Nodes length: \", len(node_names))\n",
    "print(\"Edges length: \", len(edges))\n",
    "print(\"Edges attributes length: \", len(edges_attributes)) # This should be the same length as edges"
   ]
  },
  {
   "cell_type": "code",
   "execution_count": 16,
   "metadata": {},
   "outputs": [
    {
     "name": "stdout",
     "output_type": "stream",
     "text": [
      "First 5 nodes: ['William Spicer Wood', 'William Spicer Wood', 'William Spicer Wood', 'William Wilson', 'William Wilson']\n",
      "First 5 edges: [('William Aldam', 'x Fox'), ('William Jun Aldam', 'x Fox'), ('Frederick Alexander', 'R D Alexander'), ('G W Alexander', 'R D Alexander'), ('Henry Alexander', 'R D Alexander')]\n",
      "First 5 edges attributes: [('1',), ('1',), ('1',), ('1',), ('1',)]\n"
     ]
    }
   ],
   "source": [
    "print(\"First 5 nodes:\", node_names[0:5])\n",
    "print(\"First 5 edges:\", edges[0:5])\n",
    "print(\"First 5 edges attributes:\", edges_attributes[0:5])\n",
    "\n",
    "# The output will appear below this code cell."
   ]
  },
  {
   "cell_type": "code",
   "execution_count": 17,
   "metadata": {},
   "outputs": [
    {
     "name": "stdout",
     "output_type": "stream",
     "text": [
      "Name: \n",
      "Type: Graph\n",
      "Number of nodes: 590\n",
      "Number of edges: 2001\n",
      "Average degree:   6.7831\n"
     ]
    }
   ],
   "source": [
    "G = nx.Graph()\n",
    "G.add_nodes_from(node_names)\n",
    "G.add_edges_from(edges)\n",
    "print(nx.info(G))"
   ]
  },
  {
   "cell_type": "code",
   "execution_count": 18,
   "metadata": {},
   "outputs": [],
   "source": [
    "# Nodes attributes\n",
    "birth_year_dict = {}\n",
    "death_year_dict = {}\n",
    "religion_name_dict = {}\n",
    "ceda_name_dict = {}\n",
    "person_ceda_first_year_dict = {}\n",
    "person_ceda_last_year_dict = {}\n",
    "\n",
    "# Edges attributes\n",
    "relationship_type_id_dict = {}"
   ]
  },
  {
   "cell_type": "code",
   "execution_count": 19,
   "metadata": {},
   "outputs": [],
   "source": [
    "for node in nodes: # Loop through the list, one row at a time\n",
    "    birth_year_dict [node[0]] = node[1]\n",
    "    death_year_dict [node[0]] = node[2]\n",
    "    religion_name_dict [node[0]] = node[3]\n",
    "    ceda_name_dict [node[0]] = node[4]\n",
    "    person_ceda_first_year_dict [node[0]] = node[5]\n",
    "    person_ceda_last_year_dict [node[0]] = node[6]\n",
    "    "
   ]
  },
  {
   "cell_type": "code",
   "execution_count": 20,
   "metadata": {},
   "outputs": [],
   "source": [
    "for i, edge in enumerate(edges): # Loop through the list, one row at a time\n",
    "    relationship_type_id_dict [(edge[0], edge[1])] = edges_attributes[i][0]    "
   ]
  },
  {
   "cell_type": "code",
   "execution_count": 21,
   "metadata": {},
   "outputs": [],
   "source": [
    "#print(relationship_type_id_dict)# list Source, target and first_year (all records). This shows the data that will be exported to Gephi.\n",
    "#print(len(relationship_type_id_dict))# At the end of the file print a count of all first_year check 3946)\n"
   ]
  },
  {
   "cell_type": "code",
   "execution_count": 22,
   "metadata": {},
   "outputs": [],
   "source": [
    "# Nodes\n",
    "\n",
    "nx.set_node_attributes(G, birth_year_dict, 'birth_year')\n",
    "nx.set_node_attributes(G, death_year_dict, 'death_year')\n",
    "nx.set_node_attributes(G, religion_name_dict, 'religion')\n",
    "nx.set_node_attributes(G, ceda_name_dict,'ceda')\n",
    "nx.set_node_attributes(G, person_ceda_first_year_dict, 'first_year') \n",
    "nx.set_node_attributes(G, person_ceda_last_year_dict, 'last_year')                    \n",
    "\n",
    "# Edges\n",
    "nx.set_edge_attributes(G, relationship_type_id_dict, 'relationship_type_id')"
   ]
  },
  {
   "cell_type": "code",
   "execution_count": 23,
   "metadata": {},
   "outputs": [],
   "source": [
    "# for n in G.nodes(): # Loop through every node, in our data \"n\" will be the name of the person\n",
    "#    print(n, G.nodes[n]['birth_year']) # Access every node by its name, and then by the attribute \"birth_year\""
   ]
  },
  {
   "cell_type": "code",
   "execution_count": 24,
   "metadata": {},
   "outputs": [],
   "source": [
    "nx.write_gexf(G, 'quakers_dynamic.gexf')"
   ]
  },
  {
   "cell_type": "code",
   "execution_count": null,
   "metadata": {},
   "outputs": [],
   "source": []
  }
 ],
 "metadata": {
  "kernelspec": {
   "display_name": "Python 3",
   "language": "python",
   "name": "python3"
  },
  "language_info": {
   "codemirror_mode": {
    "name": "ipython",
    "version": 3
   },
   "file_extension": ".py",
   "mimetype": "text/x-python",
   "name": "python",
   "nbconvert_exporter": "python",
   "pygments_lexer": "ipython3",
   "version": "3.8.8"
  }
 },
 "nbformat": 4,
 "nbformat_minor": 4
}
